{
 "cells": [
  {
   "cell_type": "code",
   "execution_count": 1,
   "metadata": {},
   "outputs": [],
   "source": [
    "from git import Repo\n",
    "import io\n",
    "import pickle\n",
    "import pandas as pd"
   ]
  },
  {
   "cell_type": "code",
   "execution_count": 2,
   "metadata": {},
   "outputs": [
    {
     "name": "stdout",
     "output_type": "stream",
     "text": [
      "<git.repo.base.Repo '/Users/davidlaredorazo/Documents/Projects/Rappi Challenge/ml_training/.git'>\n"
     ]
    }
   ],
   "source": [
    "repo = Repo(r\"/Users/davidlaredorazo/Documents/Projects/Rappi Challenge/ml_training\")\n",
    "print(repo)"
   ]
  },
  {
   "cell_type": "code",
   "execution_count": null,
   "metadata": {},
   "outputs": [],
   "source": [
    "print(repo.commit())\n",
    "commit = repo.commit('7a195ef2a6c0dd25d2f9be780eaac3657f16cd3b')"
   ]
  },
  {
   "cell_type": "code",
   "execution_count": null,
   "metadata": {},
   "outputs": [],
   "source": [
    "print(commit)\n",
    "print(commit.tree)"
   ]
  },
  {
   "cell_type": "code",
   "execution_count": null,
   "metadata": {},
   "outputs": [],
   "source": [
    "# Retrieve a file from the commit tree\n",
    "# You can use the path helper to get the file by filename \n",
    "\n",
    "targetfile = commit.tree / 'models/rf_clf.pkl'\n",
    "print(targetfile)"
   ]
  },
  {
   "cell_type": "code",
   "execution_count": null,
   "metadata": {},
   "outputs": [],
   "source": [
    "with io.BytesIO(targetfile.data_stream.read()) as f:\n",
    "    print(f.read().decode('utf-8'))"
   ]
  },
  {
   "cell_type": "code",
   "execution_count": null,
   "metadata": {},
   "outputs": [],
   "source": [
    "with io.BytesIO(targetfile.data_stream.read()) as f:\n",
    "    model = pickle.load(f)\n",
    "    print(model)"
   ]
  },
  {
   "cell_type": "code",
   "execution_count": null,
   "metadata": {},
   "outputs": [],
   "source": [
    "model_path = r\"/Users/davidlaredorazo/Documents/Projects/Rappi Challenge/ml_training/models/rf_clf.pkl\"\n",
    "model = pickle.load(open(model_path, 'rb'))\n",
    "print(model)"
   ]
  },
  {
   "cell_type": "code",
   "execution_count": null,
   "metadata": {},
   "outputs": [],
   "source": []
  },
  {
   "cell_type": "code",
   "execution_count": null,
   "metadata": {},
   "outputs": [],
   "source": [
    "#Process data according to solution\n",
    "training = pd.read_csv(\"data_raw/train.csv\")\n",
    "training = training.drop(['PassengerId','Name','Ticket','Cabin'], axis=1)\n",
    "\n",
    "#Fill missing values\n",
    "training.Age = training.Age.fillna(training.Age.median())\n",
    "training.Embarked = training.Embarked.fillna('S')\n",
    "\n",
    "#Transform categorical into integer\n",
    "embark_dummies_titanic  = pd.get_dummies(training['Embarked'])\n",
    "sex_dummies_titanic  = pd.get_dummies(training['Sex'])\n",
    "pclass_dummies_titanic  = pd.get_dummies(training['Pclass'], prefix=\"Class\")\n",
    "\n",
    "#Put data together\n",
    "training = training.drop(['Embarked', 'Sex', 'Pclass'], axis=1)\n",
    "titanic = training.join([embark_dummies_titanic, sex_dummies_titanic, pclass_dummies_titanic])"
   ]
  },
  {
   "cell_type": "code",
   "execution_count": null,
   "metadata": {},
   "outputs": [],
   "source": [
    "titanic.head()"
   ]
  },
  {
   "cell_type": "code",
   "execution_count": 3,
   "metadata": {},
   "outputs": [
    {
     "data": {
      "text/plain": [
       "[<git.remote.FetchInfo at 0x7fd77f6e3530>]"
      ]
     },
     "execution_count": 3,
     "metadata": {},
     "output_type": "execute_result"
    }
   ],
   "source": [
    "origin = repo.remote(name='ml_training')\n",
    "origin.pull()"
   ]
  },
  {
   "cell_type": "code",
   "execution_count": null,
   "metadata": {},
   "outputs": [],
   "source": []
  }
 ],
 "metadata": {
  "kernelspec": {
   "display_name": "Python 3",
   "language": "python",
   "name": "python3"
  },
  "language_info": {
   "codemirror_mode": {
    "name": "ipython",
    "version": 3
   },
   "file_extension": ".py",
   "mimetype": "text/x-python",
   "name": "python",
   "nbconvert_exporter": "python",
   "pygments_lexer": "ipython3",
   "version": "3.7.7"
  }
 },
 "nbformat": 4,
 "nbformat_minor": 4
}
