{
 "cells": [
  {
   "cell_type": "code",
   "execution_count": 1,
   "metadata": {},
   "outputs": [],
   "source": [
    "from git import Repo\n",
    "import io\n",
    "import pickle\n",
    "import pandas as pd"
   ]
  },
  {
   "cell_type": "code",
   "execution_count": 2,
   "metadata": {},
   "outputs": [
    {
     "name": "stdout",
     "output_type": "stream",
     "text": [
      "<git.repo.base.Repo '/Users/davidlaredorazo/Documents/Projects/Rappi Challenge/ml_training/.git'>\n"
     ]
    }
   ],
   "source": [
    "repo = Repo(r\"/Users/davidlaredorazo/Documents/Projects/Rappi Challenge/ml_training\")\n",
    "print(repo)"
   ]
  },
  {
   "cell_type": "code",
   "execution_count": null,
   "metadata": {},
   "outputs": [],
   "source": [
    "print(repo.commit())\n",
    "commit = repo.commit('7a195ef2a6c0dd25d2f9be780eaac3657f16cd3b')"
   ]
  },
  {
   "cell_type": "code",
   "execution_count": null,
   "metadata": {},
   "outputs": [],
   "source": [
    "print(commit)\n",
    "print(commit.tree)"
   ]
  },
  {
   "cell_type": "code",
   "execution_count": null,
   "metadata": {},
   "outputs": [],
   "source": [
    "# Retrieve a file from the commit tree\n",
    "# You can use the path helper to get the file by filename \n",
    "\n",
    "targetfile = commit.tree / 'models/rf_clf.pkl'\n",
    "print(targetfile)"
   ]
  },
  {
   "cell_type": "code",
   "execution_count": null,
   "metadata": {},
   "outputs": [],
   "source": [
    "with io.BytesIO(targetfile.data_stream.read()) as f:\n",
    "    print(f.read().decode('utf-8'))"
   ]
  },
  {
   "cell_type": "code",
   "execution_count": null,
   "metadata": {},
   "outputs": [],
   "source": [
    "with io.BytesIO(targetfile.data_stream.read()) as f:\n",
    "    model = pickle.load(f)\n",
    "    print(model)"
   ]
  },
  {
   "cell_type": "code",
   "execution_count": null,
   "metadata": {},
   "outputs": [],
   "source": [
    "model_path = r\"/Users/davidlaredorazo/Documents/Projects/Rappi Challenge/ml_training/models/rf_clf.pkl\"\n",
    "model = pickle.load(open(model_path, 'rb'))\n",
    "print(model)"
   ]
  },
  {
   "cell_type": "code",
   "execution_count": null,
   "metadata": {},
   "outputs": [],
   "source": []
  },
  {
   "cell_type": "code",
   "execution_count": null,
   "metadata": {},
   "outputs": [],
   "source": [
    "#Process data according to solution\n",
    "training = pd.read_csv(\"data_raw/train.csv\")\n",
    "training = training.drop(['PassengerId','Name','Ticket','Cabin'], axis=1)\n",
    "\n",
    "#Fill missing values\n",
    "training.Age = training.Age.fillna(training.Age.median())\n",
    "training.Embarked = training.Embarked.fillna('S')\n",
    "\n",
    "#Transform categorical into integer\n",
    "embark_dummies_titanic  = pd.get_dummies(training['Embarked'])\n",
    "sex_dummies_titanic  = pd.get_dummies(training['Sex'])\n",
    "pclass_dummies_titanic  = pd.get_dummies(training['Pclass'], prefix=\"Class\")\n",
    "\n",
    "#Put data together\n",
    "training = training.drop(['Embarked', 'Sex', 'Pclass'], axis=1)\n",
    "titanic = training.join([embark_dummies_titanic, sex_dummies_titanic, pclass_dummies_titanic])"
   ]
  },
  {
   "cell_type": "code",
   "execution_count": null,
   "metadata": {},
   "outputs": [],
   "source": [
    "titanic.head()"
   ]
  },
  {
   "cell_type": "code",
   "execution_count": 3,
   "metadata": {},
   "outputs": [
    {
     "data": {
      "text/plain": [
       "[<git.remote.FetchInfo at 0x7fd77f6e3530>]"
      ]
     },
     "execution_count": 3,
     "metadata": {},
     "output_type": "execute_result"
    }
   ],
   "source": [
    "origin = repo.remote(name='ml_training')\n",
    "origin.pull()"
   ]
  },
  {
   "cell_type": "code",
   "execution_count": 4,
   "metadata": {},
   "outputs": [
    {
     "data": {
      "text/plain": [
       "'HEAD is now at 716836a Updating gitignore'"
      ]
     },
     "execution_count": 4,
     "metadata": {},
     "output_type": "execute_result"
    }
   ],
   "source": [
    "repo.git.reset('--hard')"
   ]
  },
  {
   "cell_type": "code",
   "execution_count": 5,
   "metadata": {},
   "outputs": [
    {
     "data": {
      "text/plain": [
       "'diff --git a/data_preprocess.py b/data_preprocess.py\\nindex 5d1dcc1..99c3638 100644\\n--- a/data_preprocess.py\\n+++ b/data_preprocess.py\\n@@ -2,24 +2,33 @@ import numpy as np\\n import pandas as pd\\n import logging\\n import traceback\\n-import warnings\\n-from collections import Counter\\n+from git import Repo\\n \\n if __name__ == \\'__main__\\':\\n \\n+    repo_path = r\"/Users/davidlaredorazo/Documents/Projects/Rappi Challenge/ml_training\"\\n+\\n     #Configure logger\\n     data_logger = logging.getLogger(\\'data_logger\\')\\n     data_logger.setLevel(logging.INFO)\\n-    data_fh = logging.FileHandler(\\'data.log\\')\\n+    data_fh = logging.FileHandler(\\'./data.log\\')\\n     data_formatter = logging.Formatter(fmt=\\'%(levelname)s:%(threadName)s:%(asctime)s:%(filename)s:%(funcName)s:%(message)s\\',\\n                                     datefmt=\\'%m/%d/%Y %H:%M:%S\\')\\n     data_fh.setFormatter(data_formatter)\\n     data_logger.addHandler(data_fh)\\n \\n+    #Try to open repository\\n     try:\\n+        repo = Repo(repo_path)\\n+    except Exception as e:\\n+        data_logger.error(\\'Could not open repository\\')\\n+        data_logger.error(traceback.format_exc())\\n+        print(\\'Could not open repository. Please check log\\')\\n \\n-        #Process data according to solution\\n-        training = pd.read_csv(\"data_raw/train.csv\")\\n+    #Pre-process data according to solution\\n+    try:\\n+\\n+        training = pd.read_csv(\"./data_raw/train.csv\")\\n         training = training.drop([\\'PassengerId\\',\\'Name\\',\\'Ticket\\',\\'Cabin\\'], axis=1)\\n \\n         #Fill missing values\\n@@ -35,10 +44,32 @@ if __name__ == \\'__main__\\':\\n         training = training.drop([\\'Embarked\\', \\'Sex\\', \\'Pclass\\'], axis=1)\\n         titanic = training.join([embark_dummies_titanic, sex_dummies_titanic, pclass_dummies_titanic])\\n \\n-        titanic.to_csv(\\'data/train.csv\\')\\n+        data_logger.info(\\'Successfully pre processed data\\')\\n+        print(\"Successfully pre processed data\")\\n \\n     except Exception as e:\\n \\n         print(\"Error while processing data. Please check log\")\\n         data_logger.error(\"Error while processing data\")\\n-        data_logger.error(traceback.format_exc())\\n\\\\ No newline at end of file\\n+        data_logger.error(traceback.format_exc())\\n+        exit()\\n+\\n+\\n+    #Upload to git\\n+    try:\\n+\\n+        titanic.to_csv(\\'./data/train.csv\\')\\n+        print(repo.git.add(\\'./data/train.csv\\'))\\n+        repo.index.commit(\\'Adding pre-processed data\\')\\n+        origin = repo.remote(name=\\'ml_training\\')\\n+        origin.push()\\n+        data_logger.info(\\'Data uploaded to git\\')\\n+        print(\\'Data uploaded to git\\')\\n+\\n+    except Exception as e:\\n+        #Need to reset git to previous state\\n+        repo.git.reset(\\'--hard\\')\\n+        data_logger.error(\\'Could not update git repository\\')\\n+        data_logger.error(traceback.format_exc())\\n+        print(\\'Could not update git repository. Please check log\\')\\n+        exit()\\n\\\\ No newline at end of file\\ndiff --git a/train_model.py b/train_model.py\\nindex 3cb7b41..94287bd 100644\\n--- a/train_model.py\\n+++ b/train_model.py\\n@@ -43,7 +43,7 @@ if __name__ == \\'__main__\\':\\n \\n     #Open config file\\n     try:\\n-        with open(\\'config.json\\') as fp:\\n+        with open(\\'./config.json\\') as fp:\\n             data = json.load(fp)\\n     except Exception as e:\\n         training_logger.error(\\'Could not open config file\\')'"
      ]
     },
     "execution_count": 5,
     "metadata": {},
     "output_type": "execute_result"
    }
   ],
   "source": [
    "t = repo.head.commit.tree\n",
    "repo.git.diff(t)"
   ]
  },
  {
   "cell_type": "code",
   "execution_count": null,
   "metadata": {},
   "outputs": [],
   "source": []
  }
 ],
 "metadata": {
  "kernelspec": {
   "display_name": "Python 3",
   "language": "python",
   "name": "python3"
  },
  "language_info": {
   "codemirror_mode": {
    "name": "ipython",
    "version": 3
   },
   "file_extension": ".py",
   "mimetype": "text/x-python",
   "name": "python",
   "nbconvert_exporter": "python",
   "pygments_lexer": "ipython3",
   "version": "3.7.7"
  }
 },
 "nbformat": 4,
 "nbformat_minor": 4
}
